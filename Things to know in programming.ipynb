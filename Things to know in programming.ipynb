{
 "cells": [
  {
   "cell_type": "code",
   "execution_count": null,
   "id": "ec49e0da",
   "metadata": {},
   "outputs": [],
   "source": [
    "print(\"hello Mujeeb\")"
   ]
  },
  {
   "cell_type": "code",
   "execution_count": null,
   "id": "d457dc3d",
   "metadata": {},
   "outputs": [],
   "source": [
    "print(\"Running  command\")"
   ]
  },
  {
   "cell_type": "code",
   "execution_count": null,
   "id": "93576535",
   "metadata": {},
   "outputs": [],
   "source": [
    "print(\"Hello world\")"
   ]
  },
  {
   "cell_type": "code",
   "execution_count": 1,
   "id": "c5db99a0-611f-405e-9fc1-0d012d523d31",
   "metadata": {},
   "outputs": [
    {
     "name": "stdout",
     "output_type": "stream",
     "text": [
      "Enter your age in number 10\n"
     ]
    },
    {
     "name": "stdout",
     "output_type": "stream",
     "text": [
      "10\n"
     ]
    }
   ],
   "source": [
    "# User input\n",
    "\n",
    "age  = int(input(\"Enter your age in number\"))\n",
    "\n",
    "#Print output\n",
    "\n",
    "print(age)"
   ]
  },
  {
   "cell_type": "code",
   "execution_count": 3,
   "id": "aaed9b9d-2641-4089-97ca-0f66db0c0dbd",
   "metadata": {},
   "outputs": [],
   "source": [
    "#Data Types includes int, float, bool, double, and many other "
   ]
  },
  {
   "cell_type": "code",
   "execution_count": 3,
   "id": "c4468843-cb9d-47d2-8885-a3d47afdf950",
   "metadata": {},
   "outputs": [
    {
     "name": "stdout",
     "output_type": "stream",
     "text": [
      "Enter value of n:  10\n",
      "Enter value of m:  15\n"
     ]
    },
    {
     "name": "stdout",
     "output_type": "stream",
     "text": [
      "lesser\n"
     ]
    }
   ],
   "source": [
    "#If-Else decision making\n",
    "\n",
    "def compareNM(n, m):\n",
    "    if n < m:\n",
    "        return \"lesser\"\n",
    "    elif n == m:\n",
    "        return \"equal\"\n",
    "    else:\n",
    "        return \"larger\"\n",
    "\n",
    "n = int(input(\"Enter value of n: \"))\n",
    "m = int(input(\"Enter value of m: \"))\n",
    "\n",
    "print(compareNM(n, m ))"
   ]
  },
  {
   "cell_type": "code",
   "execution_count": 5,
   "id": "6dade937-b86f-47cf-bfc6-00b88a2dbf0d",
   "metadata": {},
   "outputs": [
    {
     "data": {
      "text/plain": [
       "12.566370614359172"
      ]
     },
     "execution_count": 5,
     "metadata": {},
     "output_type": "execute_result"
    }
   ],
   "source": [
    "#Switch case in python \n",
    "\n",
    "import math as m\n",
    "\n",
    "def switchCase(choice , arr ):\n",
    "    if choice == 1:\n",
    "        R = arr[0]\n",
    "        return m.pi * R ** 2\n",
    "    elif choice == 2:\n",
    "        L = arr[0]\n",
    "        B = arr[1]\n",
    "        return L * B\n",
    "\n",
    "switchCase(1, [2, 2, 3, 4])\n",
    "\n",
    "        "
   ]
  },
  {
   "cell_type": "code",
   "execution_count": 17,
   "id": "021d94e6-b02a-4069-aad9-188b588481dc",
   "metadata": {},
   "outputs": [
    {
     "name": "stdout",
     "output_type": "stream",
     "text": [
      "<class 'array.array'> array('u', 'BAT')\n"
     ]
    }
   ],
   "source": [
    "# Array Basics\n",
    "\n",
    "import array as arr\n",
    "\n",
    "an_arr = arr.array(\"u\", \"BAT\")\n",
    "print(type(an_arr), an_arr)"
   ]
  },
  {
   "cell_type": "code",
   "execution_count": 31,
   "id": "3e3386d6-a028-4e21-8341-be8fc036cc10",
   "metadata": {},
   "outputs": [
    {
     "name": "stdout",
     "output_type": "stream",
     "text": [
      "array('i', [1, 2, 3, 4, 5])\n"
     ]
    }
   ],
   "source": [
    "int_arr = arr.array(\"i\", [1, 2, 3, 4, 5])\n",
    "print(int_arr)"
   ]
  },
  {
   "cell_type": "code",
   "execution_count": null,
   "id": "79f994c4-33a9-4dde-a223-f421696e9747",
   "metadata": {},
   "outputs": [],
   "source": [
    "# Array Operations and Time Complexity of array \n",
    "\n",
    "'''\n",
    "Traverse - Print all the array elements one by one.\n",
    "Insertion - Adds an element at the given index.\n",
    "Deletion - Removing a existing element\n",
    "Search -  Searches an element using the given index or by the value.\n",
    "Update - Updates an element at the given index.\n",
    "'''\n"
   ]
  },
  {
   "cell_type": "code",
   "execution_count": 33,
   "id": "60061faa-c3ac-4358-93dd-76a0c037b506",
   "metadata": {},
   "outputs": [
    {
     "name": "stdout",
     "output_type": "stream",
     "text": [
      "1\n",
      "2\n",
      "3\n",
      "4\n",
      "5\n"
     ]
    }
   ],
   "source": [
    "# Traversal Operation \n",
    "\n",
    "for element in int_arr:\n",
    "    print(element)"
   ]
  },
  {
   "cell_type": "code",
   "execution_count": 35,
   "id": "0bf4962b-12a3-4476-9376-0238198f5ab4",
   "metadata": {},
   "outputs": [
    {
     "name": "stdout",
     "output_type": "stream",
     "text": [
      "array('i', [1, 0, 2, 3, 4, 5])\n"
     ]
    }
   ],
   "source": [
    "# Insertion Operation\n",
    "\n",
    "int_arr.insert(1, 0)\n",
    "print(int_arr)"
   ]
  },
  {
   "cell_type": "code",
   "execution_count": 37,
   "id": "54667256-03e0-4a82-8ce2-fe08a9f36f79",
   "metadata": {},
   "outputs": [
    {
     "name": "stdout",
     "output_type": "stream",
     "text": [
      "array('i', [1, 2, 3, 4, 5])\n"
     ]
    }
   ],
   "source": [
    "# Deletion Operation\n",
    "\n",
    "int_arr.remove(0)\n",
    "print(int_arr)"
   ]
  },
  {
   "cell_type": "code",
   "execution_count": 39,
   "id": "1e5b24a3-6209-4240-9782-e7c320db07c0",
   "metadata": {},
   "outputs": [
    {
     "name": "stdout",
     "output_type": "stream",
     "text": [
      "array('i', [1, 2, 3, 4, 5])\n"
     ]
    }
   ],
   "source": [
    "# Search Operation\n",
    "\n",
    "int_arr.index(5)\n",
    "print(int_arr)"
   ]
  },
  {
   "cell_type": "code",
   "execution_count": 41,
   "id": "5dba23b2-0601-4d30-9ae2-fd785c42e423",
   "metadata": {},
   "outputs": [
    {
     "name": "stdout",
     "output_type": "stream",
     "text": [
      "array('i', [1, 2, 5, 4, 5])\n"
     ]
    }
   ],
   "source": [
    "# Updation Operation\n",
    "\n",
    "int_arr[2] = 5\n",
    "print(int_arr)"
   ]
  },
  {
   "cell_type": "code",
   "execution_count": null,
   "id": "d6dd250e-4f8f-4acc-8c28-9ad7d1c0cfb3",
   "metadata": {},
   "outputs": [],
   "source": [
    "# For Loop \n",
    "\n",
    "# Syntax \n",
    "'''\n",
    "for iterating_var in sequence:\n",
    "    statement(s)\n",
    "'''"
   ]
  },
  {
   "cell_type": "code",
   "execution_count": 51,
   "id": "b60ec020-848b-45d6-97a5-832a8934edb4",
   "metadata": {},
   "outputs": [
    {
     "name": "stdout",
     "output_type": "stream",
     "text": [
      "\n",
      "Btfl s bttr thn gly.\n",
      "Explct s bttr thn mplct.\n",
      "Smpl s bttr thn cmplx.\n",
      "Cmplx s bttr thn cmplctd.\n"
     ]
    }
   ],
   "source": [
    "zen = '''\n",
    "Beautiful is better than ugly.\n",
    "Explicit is better than implicit.\n",
    "Simple is better than complex.\n",
    "Complex is better than complicated.\n",
    "'''\n",
    "\n",
    "for char in zen:\n",
    "    if char not in \"aeiou\":\n",
    "        print(char, end= '')"
   ]
  },
  {
   "cell_type": "code",
   "execution_count": null,
   "id": "b97b743e-2808-43c8-946a-e8dd4f1bdf45",
   "metadata": {},
   "outputs": [],
   "source": [
    "# Range in For Loop\n",
    "\n",
    "#Syntax\n",
    "#range(start, stop, step)"
   ]
  },
  {
   "cell_type": "code",
   "execution_count": 55,
   "id": "a0238345-56c9-4597-819e-03da2533e6bf",
   "metadata": {},
   "outputs": [
    {
     "name": "stdout",
     "output_type": "stream",
     "text": [
      "10 equals to 2 * 5\n",
      "11 is a prime number\n",
      "12 equals to 2 * 6\n",
      "13 is a prime number\n",
      "14 equals to 2 * 7\n",
      "15 is a prime number\n",
      "16 equals to 2 * 8\n",
      "17 is a prime number\n",
      "18 equals to 2 * 9\n",
      "19 is a prime number\n"
     ]
    }
   ],
   "source": [
    "for num in range(10, 20):\n",
    "    for  i in range(2, num):\n",
    "\n",
    "        if num % i == 0:\n",
    "\n",
    "            j = num / i\n",
    "            print(\"%d equals to %d * %d\" %(num, i, j))\n",
    "            break\n",
    "        else:\n",
    "            print(f\"{num} is a prime number\")\n",
    "            break\n",
    "    "
   ]
  },
  {
   "cell_type": "code",
   "execution_count": null,
   "id": "ba890f03-d277-4de9-aeca-a6098a13437d",
   "metadata": {},
   "outputs": [],
   "source": [
    "# While Loop \n",
    "\n",
    "# Syntax \n",
    "# while expression:\n",
    "#    statement(s)"
   ]
  },
  {
   "cell_type": "code",
   "execution_count": 59,
   "id": "439b2d61-d217-4b83-ae2f-683d28734578",
   "metadata": {},
   "outputs": [
    {
     "name": "stdout",
     "output_type": "stream",
     "text": [
      "Iteration no 1 completed\n",
      "Iteration no 2 completed\n",
      "Iteration no 3 completed\n",
      "Iteration no 4 completed\n",
      "Iteration no 5 completed\n",
      "End of While Loop\n"
     ]
    }
   ],
   "source": [
    "count = 0\n",
    "while count < 5:\n",
    "    count +=1\n",
    "    print(\"Iteration no {} completed\".format(count))\n",
    "print(\"End of While Loop\")"
   ]
  },
  {
   "cell_type": "code",
   "execution_count": 19,
   "id": "3bcbdd62-4ff1-4913-a90b-c92cd960dbd8",
   "metadata": {},
   "outputs": [
    {
     "name": "stdout",
     "output_type": "stream",
     "text": [
      "Enter a number for a table to be reversed:  10\n"
     ]
    },
    {
     "name": "stdout",
     "output_type": "stream",
     "text": [
      "100 90 80 70 60 50 40 30 20 10 None\n"
     ]
    }
   ],
   "source": [
    "# GFG Problem: While loop- printTable\n",
    "\n",
    "def printTable(n):\n",
    "\n",
    "    multiplier = 10\n",
    "    while multiplier >= 1:\n",
    "        print(multiplier * n, end=\" \")\n",
    "        multiplier -= 1\n",
    "\n",
    "n = int(input(\"Enter a number for a table to be reversed: \"))\n",
    "print(printTable(n))"
   ]
  },
  {
   "cell_type": "code",
   "execution_count": 13,
   "id": "a581aa04-52ce-45f1-828a-ad8cbc78779f",
   "metadata": {},
   "outputs": [
    {
     "name": "stdout",
     "output_type": "stream",
     "text": [
      "Enter Table Digit:  10\n"
     ]
    },
    {
     "name": "stdout",
     "output_type": "stream",
     "text": [
      "100 90 80 70 60 50 40 30 20 10 "
     ]
    }
   ],
   "source": [
    "value = 10\n",
    "table = int(input(\"Enter Table Digit: \"))\n",
    "while value >= 1:\n",
    "    print(value * table, end=\" \")\n",
    "    value -= 1"
   ]
  },
  {
   "cell_type": "code",
   "execution_count": 38,
   "id": "a4f5713d-553c-4a6d-97b4-f27d93a8ca51",
   "metadata": {},
   "outputs": [
    {
     "name": "stdout",
     "output_type": "stream",
     "text": [
      "Enter the value of a:  10\n",
      "Enter the value of b:  20\n"
     ]
    },
    {
     "name": "stdout",
     "output_type": "stream",
     "text": [
      "(11, 22)\n"
     ]
    }
   ],
   "source": [
    "# GFG Problem: Pass by Reference and Value (Function)\n",
    "\n",
    "def passBy(a, b):\n",
    "    a += 1\n",
    "    b += 2\n",
    "    return a, b\n",
    "\n",
    "a = int(input(\"Enter the value of a: \"))\n",
    "b = int(input(\"Enter the value of b: \"))\n",
    "\n",
    "print(passBy(a, b))"
   ]
  }
 ],
 "metadata": {
  "kernelspec": {
   "display_name": "Python 3 (ipykernel)",
   "language": "python",
   "name": "python3"
  },
  "language_info": {
   "codemirror_mode": {
    "name": "ipython",
    "version": 3
   },
   "file_extension": ".py",
   "mimetype": "text/x-python",
   "name": "python",
   "nbconvert_exporter": "python",
   "pygments_lexer": "ipython3",
   "version": "3.12.4"
  }
 },
 "nbformat": 4,
 "nbformat_minor": 5
}
