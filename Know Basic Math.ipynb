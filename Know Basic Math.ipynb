{
 "cells": [
  {
   "cell_type": "code",
   "execution_count": 5,
   "id": "319e2916-621b-47c3-9b75-77323a2ca211",
   "metadata": {},
   "outputs": [
    {
     "name": "stdout",
     "output_type": "stream",
     "text": [
      "4\n"
     ]
    }
   ],
   "source": [
    "# Count Digits in a Number\n",
    "\n",
    "def count_Digit(N):\n",
    "    cnt = 0\n",
    "    while N>0:\n",
    "        cnt += 1\n",
    "        N = N // 10\n",
    "    return cnt\n",
    "\n",
    "print(count_Digit(7789))"
   ]
  },
  {
   "cell_type": "code",
   "execution_count": 13,
   "id": "bb77405c-8754-40be-8ca9-486fb5a7e967",
   "metadata": {},
   "outputs": [
    {
     "name": "stdout",
     "output_type": "stream",
     "text": [
      "5\n"
     ]
    }
   ],
   "source": [
    "# Log Approch solution of Count Digits Problem \n",
    "import math as m\n",
    "def count_digit(N):\n",
    "    cnt = int(m.log10(N) + 1) \n",
    "    return cnt\n",
    "\n",
    "print(count_digit(77899))"
   ]
  },
  {
   "cell_type": "code",
   "execution_count": 27,
   "id": "c3a95c6f-61b0-42a2-b6f1-53c3fb8d0808",
   "metadata": {},
   "outputs": [
    {
     "name": "stdout",
     "output_type": "stream",
     "text": [
      "0\n"
     ]
    }
   ],
   "source": [
    "# Reverse a Number\n",
    "\n",
    "def revNo(N):\n",
    "    rev_no = 0\n",
    "    while N>0:\n",
    "        lastDigit = N % 10\n",
    "        N = N // 10\n",
    "        rev_no = (rev_no * 10) + lastDigit\n",
    "    return rev_no\n",
    "\n",
    "print(revNo(7789))"
   ]
  },
  {
   "cell_type": "code",
   "execution_count": 29,
   "id": "2d47c979-985f-45fc-a650-01a2619c42d3",
   "metadata": {},
   "outputs": [
    {
     "name": "stdout",
     "output_type": "stream",
     "text": [
      "False\n"
     ]
    }
   ],
   "source": [
    "# Palindrome Number\n",
    "\n",
    "def chk_palin(N):\n",
    "    rev_no = 0\n",
    "    dup = N\n",
    "    while N>0:\n",
    "        lastDigit = N % 10\n",
    "        N = N // 10\n",
    "        rev_no = (rev_no * 10) + lastDigit\n",
    "\n",
    "    if dup == rev_no:\n",
    "        return True\n",
    "    else:\n",
    "        return False\n",
    "\n",
    "print(chk_palin(123))"
   ]
  },
  {
   "cell_type": "code",
   "execution_count": 21,
   "id": "204bec88-5f43-4776-9a38-8f9929cfa956",
   "metadata": {},
   "outputs": [
    {
     "name": "stdout",
     "output_type": "stream",
     "text": [
      "True\n"
     ]
    }
   ],
   "source": [
    "# Armstrong Number\n",
    "\n",
    "def chk_armstrong(N):\n",
    "    t_digits = len(str(N))\n",
    "    sum = 0\n",
    "    dup = N\n",
    "    while N>0:\n",
    "        lastDigit = N % 10\n",
    "        sum = sum + (lastDigit ** t_digits)\n",
    "        N = N // 10\n",
    "    if dup == sum:\n",
    "        return True\n",
    "    else:\n",
    "        return False\n",
    "\n",
    "print(chk_armstrong(1634))"
   ]
  },
  {
   "cell_type": "code",
   "execution_count": 17,
   "id": "52d5f873-307b-440e-814c-34ef73a9055b",
   "metadata": {},
   "outputs": [
    {
     "name": "stdout",
     "output_type": "stream",
     "text": [
      "1\n",
      "2\n",
      "3\n",
      "4\n",
      "6\n",
      "9\n",
      "12\n",
      "18\n",
      "36\n",
      "None\n"
     ]
    }
   ],
   "source": [
    "# Print all divisors \n",
    "def all_div(N):\n",
    "    for i in range(1, N+1):\n",
    "        if N % i == 0:\n",
    "            print(i)\n",
    "        \n",
    "\n",
    "print(all_div(36))\n"
   ]
  },
  {
   "cell_type": "code",
   "execution_count": 33,
   "id": "5db4e130-59dd-460f-9385-ccf01a3168e4",
   "metadata": {},
   "outputs": [
    {
     "name": "stdout",
     "output_type": "stream",
     "text": [
      "[1, 2, 3, 4, 9, 12, 18, 36]\n"
     ]
    }
   ],
   "source": [
    "# Other approach \n",
    "\n",
    "import math as m\n",
    "out_list = []\n",
    "N = 36\n",
    "for i in range(1, int(m.sqrt(N))):\n",
    "    if N % i == 0:\n",
    "        out_list.append(int(i))\n",
    "        if (N // i) != 1:\n",
    "            out_list.append(int(N/i))\n",
    "out_list.sort()\n",
    "print(out_list)"
   ]
  },
  {
   "cell_type": "code",
   "execution_count": 39,
   "id": "85d6a4d1-b823-443e-a78a-c4fb041f0041",
   "metadata": {},
   "outputs": [
    {
     "name": "stdout",
     "output_type": "stream",
     "text": [
      "True\n"
     ]
    }
   ],
   "source": [
    "# Check number is prime or not\n",
    "# Brute Force Approch\n",
    "def chk_prime(N):\n",
    "    cnt = 0\n",
    "    for i in range(1, N+1):\n",
    "        if N % i == 0:\n",
    "            cnt += 1\n",
    "    if cnt == 2:\n",
    "        return True \n",
    "    else:\n",
    "        return False\n",
    "\n",
    "print(chk_prime(11))\n",
    "        "
   ]
  },
  {
   "cell_type": "code",
   "execution_count": 53,
   "id": "d23562c8-346d-4615-bfb1-1d29d865dbad",
   "metadata": {},
   "outputs": [
    {
     "name": "stdout",
     "output_type": "stream",
     "text": [
      "20\n"
     ]
    }
   ],
   "source": [
    "# GCD/HCF\n",
    "N1 = 20\n",
    "N2 = 40\n",
    "for i in range(1, (min(N1, N2) + 1)):\n",
    "    if N1 % i == 0 and N2 % i == 0:\n",
    "        gcd = i\n",
    "print(gcd)"
   ]
  },
  {
   "cell_type": "code",
   "execution_count": 55,
   "id": "de548d48-b135-4577-b5b0-035bcad395d2",
   "metadata": {},
   "outputs": [
    {
     "name": "stdout",
     "output_type": "stream",
     "text": [
      "20\n"
     ]
    }
   ],
   "source": [
    "# GCD using Euclidean algorithm \n",
    "a = 20 \n",
    "b = 40\n",
    "while a > 0 and b > 0:\n",
    "    if a > b:\n",
    "        a = a % b\n",
    "    else: \n",
    "        b = b % a\n",
    "if a == 0:\n",
    "    print(b)\n",
    "else:\n",
    "    print(a)"
   ]
  },
  {
   "cell_type": "code",
   "execution_count": null,
   "id": "402fd5cb-f7c5-4cd7-b38c-a59982541ac1",
   "metadata": {},
   "outputs": [],
   "source": []
  }
 ],
 "metadata": {
  "kernelspec": {
   "display_name": "Python 3 (ipykernel)",
   "language": "python",
   "name": "python3"
  },
  "language_info": {
   "codemirror_mode": {
    "name": "ipython",
    "version": 3
   },
   "file_extension": ".py",
   "mimetype": "text/x-python",
   "name": "python",
   "nbconvert_exporter": "python",
   "pygments_lexer": "ipython3",
   "version": "3.12.4"
  }
 },
 "nbformat": 4,
 "nbformat_minor": 5
}
