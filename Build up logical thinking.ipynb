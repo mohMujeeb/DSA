{
 "cells": [
  {
   "cell_type": "code",
   "execution_count": null,
   "id": "1570c4e4-d0c4-415a-ab6b-4c0be95f3228",
   "metadata": {},
   "outputs": [],
   "source": [
    "# Pattern by Striver's \n",
    "\n",
    "#Pattern 1\n",
    "\"\"\"\n",
    "\n",
    "*****\n",
    "*****\n",
    "*****\n",
    "*****\n",
    "*****\n",
    "\n",
    "\"\"\""
   ]
  },
  {
   "cell_type": "code",
   "execution_count": 1,
   "id": "f9d65ef6-ab3d-46ee-9089-d25454dd6e95",
   "metadata": {},
   "outputs": [
    {
     "name": "stdout",
     "output_type": "stream",
     "text": [
      "*****\n",
      "*****\n",
      "*****\n",
      "*****\n",
      "*****\n"
     ]
    }
   ],
   "source": [
    "for i in range(5):\n",
    "    for j in range(5):\n",
    "        print(\"*\", end= \"\")\n",
    "    print()"
   ]
  },
  {
   "cell_type": "code",
   "execution_count": null,
   "id": "4484a8cf-ff72-4b79-9636-9d20400e32d8",
   "metadata": {},
   "outputs": [],
   "source": [
    "# Pattern 2\n",
    "\"\"\"\n",
    "\n",
    "*\n",
    "**\n",
    "***\n",
    "****\n",
    "*****\n",
    "\n",
    "\"\"\"\n"
   ]
  },
  {
   "cell_type": "code",
   "execution_count": 3,
   "id": "125c76bc-9347-4078-9807-490b4e7d765e",
   "metadata": {},
   "outputs": [
    {
     "name": "stdout",
     "output_type": "stream",
     "text": [
      "*\n",
      "**\n",
      "***\n",
      "****\n",
      "*****\n"
     ]
    }
   ],
   "source": [
    "for row in range(5):\n",
    "    for col in range(row + 1):\n",
    "        print(\"*\", end=\"\")\n",
    "    print()"
   ]
  },
  {
   "cell_type": "code",
   "execution_count": null,
   "id": "c947813f-9198-4319-b2ab-cf58392027ef",
   "metadata": {},
   "outputs": [],
   "source": [
    "# Pattern 3 \n",
    "\n",
    "\"\"\"\n",
    "\n",
    "1\n",
    "12\n",
    "123\n",
    "1234\n",
    "12345\n",
    "\n",
    "\"\"\""
   ]
  },
  {
   "cell_type": "code",
   "execution_count": 5,
   "id": "544cca9f-a582-4be1-9a3f-80aefc38cac0",
   "metadata": {},
   "outputs": [
    {
     "name": "stdout",
     "output_type": "stream",
     "text": [
      "1\n",
      "12\n",
      "123\n",
      "1234\n",
      "12345\n"
     ]
    }
   ],
   "source": [
    "for row in range(1,6):\n",
    "    for col in range(1, row + 1):\n",
    "        print(col, end= \"\")\n",
    "    print()"
   ]
  },
  {
   "cell_type": "code",
   "execution_count": null,
   "id": "92756ba6-5848-4cd3-bef3-72f7eb042d47",
   "metadata": {},
   "outputs": [],
   "source": [
    "# Pattern 4\n",
    "\n",
    "\"\"\"\n",
    "1\n",
    "22\n",
    "333\n",
    "4444\n",
    "55555\n",
    "\n",
    "\"\"\""
   ]
  },
  {
   "cell_type": "code",
   "execution_count": 7,
   "id": "ff05a073-5d9f-4df2-986f-b6ee09fe0201",
   "metadata": {},
   "outputs": [
    {
     "name": "stdout",
     "output_type": "stream",
     "text": [
      "1\n",
      "22\n",
      "333\n",
      "4444\n",
      "55555\n"
     ]
    }
   ],
   "source": [
    "for row in range(1, 6):\n",
    "    for col in range(row):\n",
    "        print(row , end= \"\")\n",
    "    print()"
   ]
  },
  {
   "cell_type": "code",
   "execution_count": null,
   "id": "1b826e98-c680-40cc-9a1d-45aaefb24671",
   "metadata": {},
   "outputs": [],
   "source": [
    "# Pattern 5\n",
    "\n",
    "\"\"\"\n",
    "\n",
    "*****\n",
    "****\n",
    "***\n",
    "**\n",
    "*\n",
    "\n",
    "\"\"\""
   ]
  },
  {
   "cell_type": "code",
   "execution_count": 9,
   "id": "a5303e33-1592-4d90-9d10-9caf65a89569",
   "metadata": {},
   "outputs": [
    {
     "name": "stdout",
     "output_type": "stream",
     "text": [
      "*****\n",
      "****\n",
      "***\n",
      "**\n",
      "*\n"
     ]
    }
   ],
   "source": [
    "for row in range(5):\n",
    "    for col in range(1, 5-row+1 ):\n",
    "        print(\"*\", end=\"\")\n",
    "    print()"
   ]
  },
  {
   "cell_type": "code",
   "execution_count": null,
   "id": "6ae9f392-de7e-4b53-bc8c-fb7f63ec0fcd",
   "metadata": {},
   "outputs": [],
   "source": [
    "#Pattern 6\n",
    "\n",
    "\"\"\"\n",
    "12345\n",
    "1234\n",
    "123\n",
    "12\n",
    "1\n",
    "\"\"\"\n"
   ]
  },
  {
   "cell_type": "code",
   "execution_count": 3,
   "id": "ba380c00-a754-417b-a6ad-a5eb2a3d6256",
   "metadata": {},
   "outputs": [
    {
     "name": "stdout",
     "output_type": "stream",
     "text": [
      "12345\n",
      "1234\n",
      "123\n",
      "12\n",
      "1\n"
     ]
    }
   ],
   "source": [
    "for row in range(5):\n",
    "    for col in range(1, 5-row+1):\n",
    "        print(col, end=\"\")\n",
    "    print()"
   ]
  },
  {
   "cell_type": "code",
   "execution_count": null,
   "id": "5b7d7b45-9a37-4119-b482-6bb3edd3c6c0",
   "metadata": {},
   "outputs": [],
   "source": [
    "#Pattern 7\n",
    "\"\"\"\n",
    "    *\n",
    "   ***\n",
    "  *****\n",
    " *******\n",
    "*********\n",
    "\"\"\""
   ]
  },
  {
   "cell_type": "code",
   "execution_count": 7,
   "id": "0ecaa84c-d747-4613-8819-b77226770e94",
   "metadata": {},
   "outputs": [
    {
     "name": "stdout",
     "output_type": "stream",
     "text": [
      "    *    \n",
      "   ***   \n",
      "  *****  \n",
      " ******* \n",
      "*********\n"
     ]
    }
   ],
   "source": [
    "for row in range(5):\n",
    "    for space in range(5-row-1):\n",
    "        print(\" \", end=\"\")\n",
    "    for star in range(2*row+1):\n",
    "        print(\"*\", end=\"\")\n",
    "    for space in range(5-row-1):\n",
    "        print(\" \", end=\"\")\n",
    "    print()"
   ]
  },
  {
   "cell_type": "code",
   "execution_count": null,
   "id": "f6e4f3ff-c65a-4261-ae53-45ed02316d9f",
   "metadata": {},
   "outputs": [],
   "source": [
    "#Pattern 8\n",
    "\"\"\"\n",
    "*********\n",
    " *******\n",
    "  *****\n",
    "   ***\n",
    "    *\n",
    "\"\"\""
   ]
  },
  {
   "cell_type": "code",
   "execution_count": 23,
   "id": "c752e557-65a0-46c7-9864-3af8e655d8b8",
   "metadata": {},
   "outputs": [
    {
     "name": "stdout",
     "output_type": "stream",
     "text": [
      "*********\n",
      " ******* \n",
      "  *****  \n",
      "   ***   \n",
      "    *    \n"
     ]
    }
   ],
   "source": [
    "n = 5\n",
    "\n",
    "for row in range(n):\n",
    "    for space in range(row):\n",
    "        print(\" \", end=\"\")\n",
    "    for star in range(2*n-(2*row+1)):\n",
    "        print(\"*\", end=\"\")\n",
    "    for space in range(row):\n",
    "        print(\" \", end=\"\")\n",
    "    print()\n",
    "\n"
   ]
  },
  {
   "cell_type": "code",
   "execution_count": null,
   "id": "eb455005-5b35-4374-a948-93d7840c1ebc",
   "metadata": {},
   "outputs": [],
   "source": [
    "#Pattern 9\n",
    "\"\"\"\n",
    "    *\n",
    "   ***\n",
    "  *****\n",
    " *******\n",
    "*********\n",
    "*********\n",
    " *******\n",
    "  *****\n",
    "   ***\n",
    "    *\n",
    "\"\"\""
   ]
  },
  {
   "cell_type": "code",
   "execution_count": 33,
   "id": "5b1e8082-ae54-4070-b79b-b89b299a35f4",
   "metadata": {},
   "outputs": [
    {
     "name": "stdout",
     "output_type": "stream",
     "text": [
      "    *    \n",
      "   ***   \n",
      "  *****  \n",
      " ******* \n",
      "*********\n",
      "*********\n",
      " ******* \n",
      "  *****  \n",
      "   ***   \n",
      "    *    \n"
     ]
    }
   ],
   "source": [
    "for row in range(5):\n",
    "    for space in range(5-row-1):\n",
    "        print(\" \", end=\"\")\n",
    "    for star in range(2*row+1):\n",
    "        print(\"*\", end=\"\")\n",
    "    for space in range(5-row-1):\n",
    "        print(\" \", end=\"\")\n",
    "    print()\n",
    "    \n",
    "n = 5\n",
    "for row in range(n):\n",
    "    for space in range(row):\n",
    "        print(\" \", end=\"\")\n",
    "    for star in range(2*n-(2*row+1)):\n",
    "        print(\"*\", end=\"\")\n",
    "    for space in range(row):\n",
    "        print(\" \", end=\"\")\n",
    "    print()\n",
    "\n"
   ]
  },
  {
   "cell_type": "code",
   "execution_count": null,
   "id": "cfb29e9f-d617-4c49-85ad-72c498d1639d",
   "metadata": {},
   "outputs": [],
   "source": [
    "#Pattern 10\n",
    "\"\"\"\n",
    "*\n",
    "**\n",
    "***\n",
    "****\n",
    "*****\n",
    "****\n",
    "***\n",
    "**\n",
    "*\n",
    "\"\"\""
   ]
  },
  {
   "cell_type": "code",
   "execution_count": 39,
   "id": "6624e105-c6cc-46a2-b966-98afbe04fd6f",
   "metadata": {},
   "outputs": [
    {
     "name": "stdout",
     "output_type": "stream",
     "text": [
      "*\n",
      "**\n",
      "***\n",
      "****\n",
      "*****\n",
      "****\n",
      "***\n",
      "**\n",
      "*\n"
     ]
    }
   ],
   "source": [
    "def pattern10(N):\n",
    "    # Outer loop for number of rows.\n",
    "    for i in range(1, 2 * N):\n",
    "\n",
    "        # stars would be equal to the row number until the first half\n",
    "        stars = i\n",
    "        # for the second half of the rotated triangle.\n",
    "        if i > N:\n",
    "            stars = 2 * N - i \n",
    "        # for printing the stars in each row.\n",
    "        for j in range(stars):\n",
    "            print(\"*\", end=\"\")\n",
    "        # As soon as the stars for each iteration are printed, we move to the\n",
    "        # next row and give a line break otherwise all stars\n",
    "        # would get printed in 1 line.\n",
    "        print()\n",
    "\n",
    "if __name__ == \"__main__\":\n",
    "    # Here, we have taken the value of N as 5.\n",
    "    # We can also take input from the user.\n",
    "    N = 5\n",
    "    pattern10(N)"
   ]
  },
  {
   "cell_type": "code",
   "execution_count": null,
   "id": "20b54994-1655-4e59-ae17-4c0ae513c676",
   "metadata": {},
   "outputs": [],
   "source": []
  }
 ],
 "metadata": {
  "kernelspec": {
   "display_name": "Python 3 (ipykernel)",
   "language": "python",
   "name": "python3"
  },
  "language_info": {
   "codemirror_mode": {
    "name": "ipython",
    "version": 3
   },
   "file_extension": ".py",
   "mimetype": "text/x-python",
   "name": "python",
   "nbconvert_exporter": "python",
   "pygments_lexer": "ipython3",
   "version": "3.12.4"
  }
 },
 "nbformat": 4,
 "nbformat_minor": 5
}
