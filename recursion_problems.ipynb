{
 "cells": [
  {
   "cell_type": "code",
   "execution_count": 5,
   "id": "1647aef6-b6cc-45d9-a102-723553c77bfe",
   "metadata": {},
   "outputs": [
    {
     "name": "stdin",
     "output_type": "stream",
     "text": [
      "Enter N:  10\n"
     ]
    },
    {
     "name": "stdout",
     "output_type": "stream",
     "text": [
      "1 2 3 4 5 6 7 8 9 10 \n"
     ]
    }
   ],
   "source": [
    "\"\"\"Print numbers from 1 to n without the help of loops. You only need to complete the function printNos()\n",
    "that takes N as parameter and prints number from 1 to N recursively.\"\"\"\n",
    "\n",
    "class Solution:\n",
    "    def printNos(self, N):\n",
    "        if N == 0:\n",
    "            return\n",
    "        self.printNos(N - 1)\n",
    "        print(N, end=\" \")\n",
    "\n",
    "def main():\n",
    "    N = int(input(\"Enter N: \"))\n",
    "\n",
    "    ob = Solution()\n",
    "    ob.printNos(N)\n",
    "    print()\n",
    "\n",
    "\n",
    "if __name__ ==\"__main__\":\n",
    "    main()\n",
    "\n",
    "#Time Complexity -> O(N)"
   ]
  },
  {
   "cell_type": "code",
   "execution_count": 17,
   "id": "cd069197-5a38-4e41-8583-7a92c1adb5aa",
   "metadata": {},
   "outputs": [
    {
     "name": "stdin",
     "output_type": "stream",
     "text": [
      "Enter n:  5\n"
     ]
    },
    {
     "name": "stdout",
     "output_type": "stream",
     "text": [
      "GFG GFG GFG GFG GFG \n"
     ]
    }
   ],
   "source": [
    "# Print GFG n times without the loop.\n",
    "\n",
    "class Solution:\n",
    "    def n_GFG(self, n):\n",
    "        if n == 0:\n",
    "            return\n",
    "        print(\"GFG\", end=\" \")\n",
    "        self.n_GFG(n-1)\n",
    "\n",
    "def main():\n",
    "    n = int(input(\"Enter n: \"))\n",
    "\n",
    "    ob = Solution()\n",
    "    ob.n_GFG(n)\n",
    "    print()\n",
    "\n",
    "if __name__ == \"__main__\":\n",
    "    main()\n",
    "\n",
    "# Time Complexity -> O(N)"
   ]
  },
  {
   "cell_type": "code",
   "execution_count": 59,
   "id": "ce4b6b0b-cb2c-4a56-aca3-15bf650bb376",
   "metadata": {},
   "outputs": [
    {
     "name": "stdin",
     "output_type": "stream",
     "text": [
      "Enter n:  5\n"
     ]
    },
    {
     "name": "stdout",
     "output_type": "stream",
     "text": [
      "5 4 3 2 1 \n"
     ]
    }
   ],
   "source": [
    "# Print numbers from N to 1 (space separated) without the help of loops.\n",
    "\n",
    "class Solution:\n",
    "    def printNos(self, n):\n",
    "        if n == 0:\n",
    "            return\n",
    "        print(n, end=\" \") \n",
    "        self.printNos(n-1)\n",
    "\n",
    "def main():\n",
    "    n = int(input(\"Enter n: \"))\n",
    "\n",
    "    ob = Solution()\n",
    "    ob.printNos(n)\n",
    "    print()\n",
    "\n",
    "if __name__ == \"__main__\":\n",
    "    main()\n",
    "        "
   ]
  },
  {
   "cell_type": "code",
   "execution_count": null,
   "id": "735a87a2-bc4e-40e1-8b38-b097f1467841",
   "metadata": {},
   "outputs": [],
   "source": []
  }
 ],
 "metadata": {
  "kernelspec": {
   "display_name": "Python 3 (ipykernel)",
   "language": "python",
   "name": "python3"
  },
  "language_info": {
   "codemirror_mode": {
    "name": "ipython",
    "version": 3
   },
   "file_extension": ".py",
   "mimetype": "text/x-python",
   "name": "python",
   "nbconvert_exporter": "python",
   "pygments_lexer": "ipython3",
   "version": "3.12.4"
  }
 },
 "nbformat": 4,
 "nbformat_minor": 5
}
